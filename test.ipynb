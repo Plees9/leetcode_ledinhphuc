{
 "cells": [
  {
   "cell_type": "code",
   "execution_count": 155,
   "metadata": {
    "notebookRunGroups": {
     "groupValue": "1"
    }
   },
   "outputs": [],
   "source": [
    "class ListNode:\n",
    "    def __init__(self, val=0, next=None):\n",
    "        self.val = val\n",
    "        self.next = next\n"
   ]
  },
  {
   "cell_type": "code",
   "execution_count": null,
   "metadata": {
    "notebookRunGroups": {
     "groupValue": "1"
    }
   },
   "outputs": [],
   "source": [
    "class TreeNode:\n",
    "    def __init__(self, val=0, left=None, right=None):\n",
    "        self.val = val\n",
    "        self.left = left\n",
    "        self.right = right"
   ]
  },
  {
   "cell_type": "code",
   "execution_count": 236,
   "metadata": {
    "notebookRunGroups": {
     "groupValue": "1"
    }
   },
   "outputs": [],
   "source": [
    "def printLinkedList(head:ListNode):\n",
    "    p = head\n",
    "    k = size(head)\n",
    "    for i in range(0,k,1):\n",
    "         print(p.val, end=\"->\")\n",
    "         p = p.next\n",
    "    print()\n",
    "def size(head:ListNode):\n",
    "    count = 0\n",
    "    while head != None:\n",
    "        head = head.next\n",
    "        count += 1\n",
    "    return count"
   ]
  },
  {
   "cell_type": "code",
   "execution_count": 243,
   "metadata": {
    "notebookRunGroups": {
     "groupValue": "1"
    }
   },
   "outputs": [],
   "source": [
    "l1 = ListNode(2)\n",
    "l1.next = ListNode(3)\n",
    "l1.next.next = ListNode(7)\n",
    "l1.next.next.next = ListNode(8)\n",
    "l2 = ListNode(4)\n",
    "l2.next = ListNode(5)\n",
    "l2.next.next = ListNode(9)\n",
    "l2.next.next.next = ListNode(10)\n"
   ]
  },
  {
   "cell_type": "code",
   "execution_count": 14,
   "metadata": {},
   "outputs": [],
   "source": [
    "str = '    luffy is still joyboy             '"
   ]
  },
  {
   "cell_type": "code",
   "execution_count": 62,
   "metadata": {},
   "outputs": [],
   "source": [
    "nums = [0,1,2,2,3,0,4,2]"
   ]
  },
  {
   "cell_type": "code",
   "execution_count": 105,
   "metadata": {},
   "outputs": [],
   "source": [
    "def rotate(nums: list[int], k: int) -> None:\n",
    "    j = len(nums)\n",
    "    k = k % j\n",
    "    val = nums[-k:]\n",
    "    nums[k:] = nums[:j-k]\n",
    "    nums[:k] = val\n",
    "    \n",
    "        "
   ]
  },
  {
   "cell_type": "code",
   "execution_count": 107,
   "metadata": {},
   "outputs": [],
   "source": [
    "rotate(n,0)"
   ]
  },
  {
   "cell_type": "code",
   "execution_count": 1,
   "metadata": {},
   "outputs": [],
   "source": [
    "n = [1,-2,3,-4,5,-6,7,8]"
   ]
  },
  {
   "cell_type": "code",
   "execution_count": 8,
   "metadata": {},
   "outputs": [],
   "source": [
    "xNew = [-3,1,2,-3,0,-3]"
   ]
  },
  {
   "cell_type": "code",
   "execution_count": 17,
   "metadata": {},
   "outputs": [],
   "source": [
    "def getSubarrayBeauty(nums: list[int], k: int, x: int) -> list[int]:\n",
    "    beauty = []\n",
    "    nums = list(map(lambda x: 0 if x > 0 else x, nums))\n",
    "    for i in range(len(nums) - k + 1):\n",
    "        a = nums[i:i+k]\n",
    "        if len(list(filter(lambda x: (x != 0), a))) < x:\n",
    "            beauty.append(0)\n",
    "        else:\n",
    "            beauty.append(sorted(a)[x-1])\n",
    "    return beauty"
   ]
  },
  {
   "cell_type": "code",
   "execution_count": 18,
   "metadata": {},
   "outputs": [],
   "source": [
    "def getSubarrayBeauty2(nums: list[int], k: int, x: int) -> list[int]:\n",
    "    def solve(negative):\n",
    "        if(negative < x):\n",
    "            return 0\n",
    "        temp = x\n",
    "        for i in range(50):\n",
    "            if(temp <= count[i]):\n",
    "                return i-50\n",
    "            temp -= count[i]\n",
    "            \n",
    "    neg = 0\n",
    "    count = [0] * 50\n",
    "    for i in range(k):\n",
    "        if(nums[i] < 0):\n",
    "            count[nums[i]] += 1\n",
    "            neg += 1\n",
    "    ans = [solve(neg)]\n",
    "    for i in range(k, len(nums)):\n",
    "        if(nums[i] < 0):\n",
    "            count[nums[i]] += 1\n",
    "            neg += 1\n",
    "        if(nums[i-k] < 0):\n",
    "            count[nums[i-k]] -= 1\n",
    "            neg -= 1\n",
    "        ans.append(solve(neg))\n",
    "    return ans"
   ]
  },
  {
   "cell_type": "code",
   "execution_count": 20,
   "metadata": {},
   "outputs": [
    {
     "data": {
      "text/plain": [
       "[-3, 0, -3, -3, -3]"
      ]
     },
     "execution_count": 20,
     "metadata": {},
     "output_type": "execute_result"
    }
   ],
   "source": [
    "getSubarrayBeauty(xNew,2,1)"
   ]
  },
  {
   "cell_type": "code",
   "execution_count": 22,
   "metadata": {},
   "outputs": [
    {
     "data": {
      "text/plain": [
       "[-3, 0, -3, -3, -3]"
      ]
     },
     "execution_count": 22,
     "metadata": {},
     "output_type": "execute_result"
    }
   ],
   "source": [
    "getSubarrayBeauty2(xNew,2,1)"
   ]
  },
  {
   "cell_type": "code",
   "execution_count": 4,
   "metadata": {},
   "outputs": [],
   "source": [
    "list = []"
   ]
  },
  {
   "cell_type": "code",
   "execution_count": 10,
   "metadata": {},
   "outputs": [],
   "source": [
    "list[:3] = [0]*3"
   ]
  },
  {
   "cell_type": "code",
   "execution_count": 32,
   "metadata": {},
   "outputs": [],
   "source": [
    "sd = [1,2,2,3]\n",
    "df = [1,3,2,3]"
   ]
  },
  {
   "cell_type": "code",
   "execution_count": 33,
   "metadata": {},
   "outputs": [
    {
     "data": {
      "text/plain": [
       "False"
      ]
     },
     "execution_count": 33,
     "metadata": {},
     "output_type": "execute_result"
    }
   ],
   "source": [
    "sd == df"
   ]
  },
  {
   "cell_type": "code",
   "execution_count": 41,
   "metadata": {},
   "outputs": [],
   "source": [
    "def stack(s:str):\n",
    "    stack = []\n",
    "    for i in s:\n",
    "            if stack and i == \"#\":\n",
    "                stack.pop()\n",
    "            else:\n",
    "                stack.append(i)\n",
    "    return stack\n",
    "class Solution:\n",
    "    def backspaceCompare(self, s: str, t: str) -> bool:\n",
    "        stack_1 = stack(s)\n",
    "        stack_2 = stack(t)\n",
    "        return stack_1 == stack_2"
   ]
  },
  {
   "cell_type": "code",
   "execution_count": 42,
   "metadata": {},
   "outputs": [],
   "source": [
    "s = \"a##c\"\n",
    "t = '#a#c'"
   ]
  },
  {
   "cell_type": "code",
   "execution_count": 43,
   "metadata": {},
   "outputs": [
    {
     "data": {
      "text/plain": [
       "True"
      ]
     },
     "execution_count": 43,
     "metadata": {},
     "output_type": "execute_result"
    }
   ],
   "source": [
    "Solution.backspaceCompare(Solution,s,t)"
   ]
  }
 ],
 "metadata": {
  "kernelspec": {
   "display_name": "Python 3",
   "language": "python",
   "name": "python3"
  },
  "language_info": {
   "codemirror_mode": {
    "name": "ipython",
    "version": 3
   },
   "file_extension": ".py",
   "mimetype": "text/x-python",
   "name": "python",
   "nbconvert_exporter": "python",
   "pygments_lexer": "ipython3",
   "version": "3.10.10"
  },
  "orig_nbformat": 4
 },
 "nbformat": 4,
 "nbformat_minor": 2
}
