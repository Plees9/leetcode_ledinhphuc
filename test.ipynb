{
 "cells": [
  {
   "cell_type": "code",
   "execution_count": 97,
   "metadata": {
    "notebookRunGroups": {
     "groupValue": ""
    }
   },
   "outputs": [],
   "source": [
    "class ListNode:\n",
    "    def __init__(self, val=0, nebin_sizet=None):\n",
    "        self.val = val\n",
    "        self.nebin_sizet = nebin_sizet\n"
   ]
  },
  {
   "cell_type": "code",
   "execution_count": 1,
   "metadata": {
    "notebookRunGroups": {
     "groupValue": ""
    }
   },
   "outputs": [],
   "source": [
    "class TreeNode:\n",
    "    def __init__(self, val=0, left=None, right=None):\n",
    "        self.val = val\n",
    "        self.left = left\n",
    "        self.right = right"
   ]
  },
  {
   "cell_type": "code",
   "execution_count": 103,
   "metadata": {
    "notebookRunGroups": {
     "groupValue": ""
    }
   },
   "outputs": [],
   "source": [
    "def printLinkedList(head:ListNode):\n",
    "    p = head\n",
    "    k = size(head)\n",
    "    for i in range(0,k,1):\n",
    "         print(p.val, end=\"->\")\n",
    "         p = p.nebin_sizet\n",
    "    print()\n",
    "def size(head:ListNode):\n",
    "    count = 0\n",
    "    while head != None:\n",
    "        head = head.nebin_sizet\n",
    "        count += 1\n",
    "    return count"
   ]
  },
  {
   "cell_type": "code",
   "execution_count": 77,
   "metadata": {
    "notebookRunGroups": {
     "groupValue": ""
    }
   },
   "outputs": [
    {
     "ename": "NameError",
     "evalue": "name 'ListNode' is not defined",
     "output_type": "error",
     "traceback": [
      "\u001b[1;31m---------------------------------------------------------------------------\u001b[0m",
      "\u001b[1;31mNameError\u001b[0m                                 Traceback (most recent call last)",
      "Cell \u001b[1;32mIn[77], line 1\u001b[0m\n\u001b[1;32m----> 1\u001b[0m n1 \u001b[39m=\u001b[39m ListNode(\u001b[39m2\u001b[39m)\n\u001b[0;32m      2\u001b[0m n2 \u001b[39m=\u001b[39m ListNode(\u001b[39m3\u001b[39m)\n\u001b[0;32m      3\u001b[0m n3 \u001b[39m=\u001b[39m ListNode(\u001b[39m7\u001b[39m)\n",
      "\u001b[1;31mNameError\u001b[0m: name 'ListNode' is not defined"
     ]
    }
   ],
   "source": [
    "n1 = ListNode(2)\n",
    "n2 = ListNode(3)\n",
    "n3 = ListNode(7)\n",
    "n4 = ListNode(8)\n",
    "\n",
    "n1.nebin_sizet = n2\n",
    "n2.nebin_sizet = n3\n",
    "n3.nebin_sizet = n4\n",
    "n4.nebin_sizet = n1\n"
   ]
  },
  {
   "cell_type": "code",
   "execution_count": null,
   "metadata": {},
   "outputs": [],
   "source": []
  },
  {
   "cell_type": "code",
   "execution_count": 76,
   "metadata": {},
   "outputs": [],
   "source": [
    "nums = [4,1,1,1,2,2,3,3,3,3]"
   ]
  },
  {
   "cell_type": "code",
   "execution_count": 77,
   "metadata": {},
   "outputs": [],
   "source": [
    "def get_key_by_value(dictionary, value):\n",
    "    for key, val in dictionary.items():\n",
    "        if val == value:\n",
    "            return key\n",
    "    return None\n",
    "def topKFrequent(nums: list[int], k: int) -> list[int]:\n",
    "    unique_nums = list(set(nums))\n",
    "    freq_nums = list(map(lambda bin_size: nums.count(bin_size), unique_nums))\n",
    "    result = dict(zip(unique_nums,freq_nums))\n",
    "    k_freq = sorted(freq_nums)[::-1]\n",
    "    result_final = list(map(lambda bin_size: get_key_by_value(result,bin_size), k_freq[:k]))\n",
    "    return result_final\n",
    "     "
   ]
  },
  {
   "cell_type": "code",
   "execution_count": 78,
   "metadata": {},
   "outputs": [
    {
     "data": {
      "text/plain": [
       "[3, 1, 2]"
      ]
     },
     "execution_count": 78,
     "metadata": {},
     "output_type": "execute_result"
    }
   ],
   "source": [
    "topKFrequent(nums,3)"
   ]
  },
  {
   "cell_type": "code",
   "execution_count": 101,
   "metadata": {},
   "outputs": [],
   "source": [
    "def size(head: ListNode) -> int:\n",
    "    count = 0\n",
    "    p = head\n",
    "    while p != None:\n",
    "        p = p.nebin_sizet\n",
    "        count += 1\n",
    "    return count\n",
    "def deleteDuplicates(head: ListNode) -> ListNode:\n",
    "        p = n = ListNode()\n",
    "        k = size(head)\n",
    "        h = head\n",
    "        for i in range(k):\n",
    "            if h.nebin_sizet != h:\n",
    "                p.nebin_sizet = h.nebin_sizet\n",
    "            h = h.nebin_sizet\n",
    "        return n.nebin_sizet"
   ]
  },
  {
   "cell_type": "code",
   "execution_count": 99,
   "metadata": {},
   "outputs": [],
   "source": [
    "head = ListNode(2)\n",
    "head.nebin_sizet = ListNode(2)\n",
    "head.nebin_sizet.nebin_sizet = ListNode(3)\n",
    "head.nebin_sizet.nebin_sizet.nebin_sizet = ListNode(4)"
   ]
  },
  {
   "cell_type": "code",
   "execution_count": 106,
   "metadata": {},
   "outputs": [],
   "source": [
    "a = deleteDuplicates(head)"
   ]
  },
  {
   "cell_type": "code",
   "execution_count": 107,
   "metadata": {},
   "outputs": [
    {
     "name": "stdout",
     "output_type": "stream",
     "text": [
      "\n"
     ]
    }
   ],
   "source": [
    "printLinkedList(a)"
   ]
  },
  {
   "cell_type": "code",
   "execution_count": 28,
   "metadata": {},
   "outputs": [],
   "source": [
    "\n",
    "root = TreeNode(2)\n",
    "root.left = TreeNode(1)\n",
    "root.right = TreeNode(3)\n",
    "root.right.right = TreeNode(4)\n",
    "root.right.right.right = TreeNode(5)"
   ]
  },
  {
   "cell_type": "code",
   "execution_count": 31,
   "metadata": {},
   "outputs": [
    {
     "data": {
      "text/plain": [
       "False"
      ]
     },
     "execution_count": 31,
     "metadata": {},
     "output_type": "execute_result"
    }
   ],
   "source": [
    "isBalanced(root)"
   ]
  },
  {
   "cell_type": "code",
   "execution_count": 147,
   "metadata": {},
   "outputs": [],
   "source": [
    "nums = [1,1,1,1,6,0,1]"
   ]
  },
  {
   "cell_type": "code",
   "execution_count": 137,
   "metadata": {},
   "outputs": [],
   "source": [
    "from pyparsing import List\n",
    "def canJump(nums: List[int]) -> bool:\n",
    "    space = [[] for _ in range(len(nums))]\n",
    "    for i in range(len(space)-1):\n",
    "        for j in range(i+1,i+nums[i]+1):\n",
    "            space[i].append(j)\n",
    "    target = len(nums) - 1\n",
    "\n",
    "    def test(space, num: int,target):\n",
    "        if target in space[num]:\n",
    "            return True\n",
    "        for i in space[num]:\n",
    "            if test(space, i,target):\n",
    "                return True\n",
    "        return False\n",
    "        \n",
    "    return test(space,0,target)\n",
    "    \n",
    "    \n",
    " "
   ]
  },
  {
   "cell_type": "code",
   "execution_count": 148,
   "metadata": {},
   "outputs": [
    {
     "data": {
      "text/plain": [
       "True"
      ]
     },
     "execution_count": 148,
     "metadata": {},
     "output_type": "execute_result"
    }
   ],
   "source": [
    "canJump(nums)"
   ]
  },
  {
   "cell_type": "code",
   "execution_count": 137,
   "metadata": {},
   "outputs": [],
   "source": [
    "from pyparsing import List\n",
    "import random\n",
    "import numpy as np\n",
    "import time"
   ]
  },
  {
   "cell_type": "code",
   "execution_count": 187,
   "metadata": {},
   "outputs": [],
   "source": [
    "arr: List[int] = [9,8,8,7,7]\n",
    "bin_size = 9"
   ]
  },
  {
   "cell_type": "code",
   "execution_count": 202,
   "metadata": {},
   "outputs": [],
   "source": [
    "# co mot vai so nhet vao mot khong gian co khoang n cho trong thif canf bao nhieu lồng để chứa\n",
    "n=10000\n",
    "arr= np.random.randint(1,10, (n))\n",
    "bin_size=12\n",
    "arr =  list(arr)\n"
   ]
  },
  {
   "cell_type": "code",
   "execution_count": 208,
   "metadata": {},
   "outputs": [],
   "source": [
    "def bai1(nums: List[int], space: int):\n",
    "    time_1 = time.time()\n",
    "    A = map(lambda bin_size: 0 if bin_size > space else bin_size, nums)\n",
    "    new_arr = sorted(list(A))\n",
    "    index = 0\n",
    "    cage = 0\n",
    "    sum = 0\n",
    "    while index < len(new_arr):\n",
    "        sum += new_arr[index]\n",
    "        index += 1\n",
    "        if index == len(new_arr) and sum <= space:\n",
    "            cage += 1\n",
    "            break\n",
    "        if sum == space:\n",
    "            cage +=1\n",
    "            sum = 0\n",
    "        if sum > space:\n",
    "            sum = 0\n",
    "            cage += 1\n",
    "            index -= 1\n",
    "    print(time.time() - time_1)\n",
    "    return cage\n",
    "    "
   ]
  },
  {
   "cell_type": "code",
   "execution_count": 209,
   "metadata": {},
   "outputs": [
    {
     "name": "stdout",
     "output_type": "stream",
     "text": [
      "0.03358912467956543\n"
     ]
    },
    {
     "data": {
      "text/plain": [
       "5363"
      ]
     },
     "execution_count": 209,
     "metadata": {},
     "output_type": "execute_result"
    }
   ],
   "source": [
    "bai1(arr,bin_size)"
   ]
  },
  {
   "cell_type": "code",
   "execution_count": null,
   "metadata": {},
   "outputs": [],
   "source": [
    "arr = np.random.randint(1,10, (n))\n",
    "x = 12\n",
    "nums =  list(arr)\n",
    "time1 =  time.time()\n",
    "nums.sort()\n",
    "l = 0\n",
    "r = len(nums)-1\n",
    "count = 0\n",
    "sum = nums[r]\n",
    "while r - l > 0:\n",
    "    if sum > x:\n",
    "        r -= 1\n",
    "        sum = nums[r]\n",
    "    elif sum == x:\n",
    "        count += 1\n",
    "        r -= 1\n",
    "        sum = nums[r]\n",
    "    elif sum + nums[l] < x:\n",
    "        sum += nums[l]\n",
    "        l += 1\n",
    "    elif sum + nums[l] == x:\n",
    "        count += 1\n",
    "        r -= 1\n",
    "        l += 1\n",
    "        sum = nums[r]\n",
    "    elif sum + nums[l] > x:\n",
    "        count += 1\n",
    "        r -= 1\n",
    "        sum = nums[r]\n",
    "if l == r and nums[l] <= x: count += 1      \n",
    "print(count)\n",
    "time.time()- time1"
   ]
  },
  {
   "cell_type": "code",
   "execution_count": 197,
   "metadata": {},
   "outputs": [],
   "source": [
    "def solution(nums: List[int], bin_size: int):\n",
    "    time1 = time.time()\n",
    "    nums.sort()\n",
    "    l = 0\n",
    "    r = len(nums)-1\n",
    "    count = 0\n",
    "    sum = nums[r]\n",
    "    while r - l > 0:\n",
    "        if sum > bin_size:\n",
    "            r -= 1\n",
    "            sum = nums[r]\n",
    "        elif sum == bin_size:\n",
    "            count += 1\n",
    "            r -= 1\n",
    "            sum = nums[r]\n",
    "        elif sum + nums[l] < bin_size:\n",
    "            sum += nums[l]\n",
    "            l += 1\n",
    "        elif sum + nums[l] == bin_size:\n",
    "            count += 1\n",
    "            r -= 1\n",
    "            l += 1\n",
    "            sum = nums[r]\n",
    "        elif sum + nums[l] > bin_size:\n",
    "            count += 1\n",
    "            r -= 1\n",
    "            sum = nums[r]\n",
    "    if l == r and nums[l] <= bin_size: count += 1      \n",
    "    print(time.time()- time1)\n",
    "    return count"
   ]
  },
  {
   "cell_type": "code",
   "execution_count": 207,
   "metadata": {},
   "outputs": [
    {
     "name": "stdout",
     "output_type": "stream",
     "text": [
      "0.01199793815612793\n"
     ]
    },
    {
     "data": {
      "text/plain": [
       "4547"
      ]
     },
     "execution_count": 207,
     "metadata": {},
     "output_type": "execute_result"
    }
   ],
   "source": [
    "solution(arr, bin_size)"
   ]
  }
 ],
 "metadata": {
  "kernelspec": {
   "display_name": "Python 3",
   "language": "python",
   "name": "python3"
  },
  "language_info": {
   "codemirror_mode": {
    "name": "ipython",
    "version": 3
   },
   "file_extension": ".py",
   "mimetype": "text/x-python",
   "name": "python",
   "nbconvert_exporter": "python",
   "pygments_lexer": "ipython3",
   "version": "3.10.10"
  },
  "orig_nbformat": 4
 },
 "nbformat": 4,
 "nbformat_minor": 2
}
